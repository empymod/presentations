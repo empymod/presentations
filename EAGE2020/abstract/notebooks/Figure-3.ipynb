{
 "cells": [
  {
   "cell_type": "markdown",
   "metadata": {},
   "source": [
    "# EAGE 2020 abstract, Figures 3\n",
    "\n",
    "Runtime and convergence of space-frequency vs space-Laplace\n",
    "\n",
    "We use for it the SEG/EAGE 3-D Salt Model; see the notebook [github.com/empymod/emg3d-examples > 2a_SEG-EAGE_3D-Salt-Model.ipynb](https://github.com/empymod/emg3d-examples/blob/master/2a_SEG-EAGE_3D-Salt-Model.ipynb) to see \n",
    "how the model is calculated etc.\n",
    "\n",
    "### References\n",
    "- **Aminzadeh, F., Brac, J., and Kunz, T., 1997**, SEG/EAGE 3-D Salt and Overthrust Models, Society of Exploration Geophysicists, Tulsa, Oklahoma."
   ]
  },
  {
   "cell_type": "code",
   "execution_count": 1,
   "metadata": {},
   "outputs": [],
   "source": [
    "import emg3d\n",
    "import joblib\n",
    "import discretize\n",
    "import numpy as np\n",
    "import matplotlib.pyplot as plt"
   ]
  },
  {
   "cell_type": "code",
   "execution_count": 2,
   "metadata": {},
   "outputs": [],
   "source": [
    "%matplotlib inline"
   ]
  },
  {
   "cell_type": "markdown",
   "metadata": {},
   "source": [
    "## Load data"
   ]
  },
  {
   "cell_type": "code",
   "execution_count": 3,
   "metadata": {},
   "outputs": [],
   "source": [
    "# Get resistivities if we already calculated them\n",
    "res = joblib.load('../../emg3d-examples/data/SEG-EAGE/res-model.lzma')\n",
    "\n",
    "# Get dimension\n",
    "nx, ny, nz = res.shape\n",
    "\n",
    "# Create corresponding mesh\n",
    "mesh = discretize.TensorMesh([np.ones(nx)*20., np.ones(ny)*20., np.ones(nz)*20.], x0='00N')"
   ]
  },
  {
   "cell_type": "markdown",
   "metadata": {},
   "source": [
    "# Forward modelling\n",
    "\n",
    "## Survey parameters"
   ]
  },
  {
   "cell_type": "code",
   "execution_count": 4,
   "metadata": {},
   "outputs": [],
   "source": [
    "src = [6400, 6600, 6500, 6500, -50, -50]  # source location\n",
    "freq = 1.0                                # Frequency"
   ]
  },
  {
   "cell_type": "markdown",
   "metadata": {},
   "source": [
    "## Initialize calculation mesh"
   ]
  },
  {
   "cell_type": "code",
   "execution_count": 5,
   "metadata": {},
   "outputs": [
    {
     "data": {
      "text/html": [
       "<table>\n",
       "  <tr>\n",
       "    <td style='font-weight: bold; font-size: 1.2em; text-align: center;' colspan='3'>TensorMesh</td>\n",
       "    <td style='font-size: 1.2em; text-align: center;'colspan='4'>2,097,152 cells</td>\n",
       "  </tr>\n",
       "  <tr>\n",
       "    <th></th>\n",
       "    <th></th>\n",
       "    <th colspan='2' style='padding: 5px 20px 5px 20px;'>MESH EXTENT</th>\n",
       "    <th colspan='2' style='padding: 5px 20px 5px 20px;'>CELL WIDTH</th>\n",
       "    <th style='padding: 5px 20px 5px 20px;'>FACTOR</th>\n",
       "  </tr>\n",
       "  <tr>\n",
       "    <th style='padding: 5px 20px 5px 20px;'>dir</th>\n",
       "    <th style='padding: 5px 20px 5px 20px;'>nC</th>\n",
       "    <th style='padding: 5px 20px 5px 20px;'>min</th>\n",
       "    <th style='padding: 5px 20px 5px 20px;'>max</th>\n",
       "    <th style='padding: 5px 20px 5px 20px;'>min</th>\n",
       "    <th style='padding: 5px 20px 5px 20px;'>max</th>\n",
       "    <th style='padding: 5px 20px 5px 20px;'>max</th>\n",
       "  </tr>\n",
       "  <tr>\n",
       "    <td style='padding: 5px 20px 5px 20px;'>x</td>\n",
       "    <td style='padding: 5px 20px 5px 20px;'>128</td>\n",
       "    <td style='padding: 5px 20px 5px 20px;'>0.00</td>\n",
       "    <td style='padding: 5px 20px 5px 20px;'>13,482.75</td>\n",
       "    <td style='padding: 5px 20px 5px 20px;'>55.13</td>\n",
       "    <td style='padding: 5px 20px 5px 20px;'>182.61</td>\n",
       "    <td style='padding: 5px 20px 5px 20px;'>1.02</td>\n",
       "  </tr>\n",
       "  <tr>\n",
       "    <td style='padding: 5px 20px 5px 20px;'>y</td>\n",
       "    <td style='padding: 5px 20px 5px 20px;'>128</td>\n",
       "    <td style='padding: 5px 20px 5px 20px;'>0.00</td>\n",
       "    <td style='padding: 5px 20px 5px 20px;'>13,482.75</td>\n",
       "    <td style='padding: 5px 20px 5px 20px;'>55.13</td>\n",
       "    <td style='padding: 5px 20px 5px 20px;'>182.61</td>\n",
       "    <td style='padding: 5px 20px 5px 20px;'>1.02</td>\n",
       "  </tr>\n",
       "  <tr>\n",
       "    <td style='padding: 5px 20px 5px 20px;'>z</td>\n",
       "    <td style='padding: 5px 20px 5px 20px;'>128</td>\n",
       "    <td style='padding: 5px 20px 5px 20px;'>-4,180.00</td>\n",
       "    <td style='padding: 5px 20px 5px 20px;'>11,250.16</td>\n",
       "    <td style='padding: 5px 20px 5px 20px;'>20.00</td>\n",
       "    <td style='padding: 5px 20px 5px 20px;'>516.82</td>\n",
       "    <td style='padding: 5px 20px 5px 20px;'>1.05</td>\n",
       "  </tr>\n",
       "</table>\n"
      ],
      "text/plain": [
       "\n",
       "  TensorMesh: 2,097,152 cells\n",
       "\n",
       "                      MESH EXTENT             CELL WIDTH      FACTOR\n",
       "  dir    nC        min           max         min       max      max\n",
       "  ---   ---  ---------------------------  ------------------  ------\n",
       "   x    128          0.00     13,482.75     55.13    182.61    1.02\n",
       "   y    128          0.00     13,482.75     55.13    182.61    1.02\n",
       "   z    128     -4,180.00     11,250.16     20.00    516.82    1.05\n"
      ]
     },
     "execution_count": 5,
     "metadata": {},
     "output_type": "execute_result"
    }
   ],
   "source": [
    "# Get calculation domain as a function of frequency (resp., skin depth)\n",
    "hx_min, xdomain = emg3d.utils.get_domain(x0=6500, freq=freq, limits=[0, 13500], min_width=[5, 100])\n",
    "hz_min, zdomain = emg3d.utils.get_domain(freq=freq, limits=[-4180, 0], min_width=[5, 20], fact_pos=40)\n",
    "\n",
    "# Create stretched grid\n",
    "nx = 2**7\n",
    "hx = emg3d.utils.get_stretched_h(hx_min, xdomain, nx, 6500)\n",
    "hy = emg3d.utils.get_stretched_h(hx_min, xdomain, nx, 6500)\n",
    "hz = emg3d.utils.get_stretched_h(hz_min, zdomain, nx, x0=-100, x1=0)\n",
    "grid = discretize.TensorMesh([hx, hy, hz], x0=(xdomain[0], xdomain[0], zdomain[0]))\n",
    "grid"
   ]
  },
  {
   "cell_type": "markdown",
   "metadata": {},
   "source": [
    "## Put the salt model onto the modelling mesh"
   ]
  },
  {
   "cell_type": "code",
   "execution_count": 6,
   "metadata": {},
   "outputs": [],
   "source": [
    "# Interpolate original model to calculation grid\n",
    "cres = emg3d.utils.grid2grid(mesh, res, grid, 'volume')\n",
    "\n",
    "# Create model\n",
    "model = emg3d.utils.Model(grid, cres)\n",
    "\n",
    "# Set air resistivity\n",
    "iz = np.argmin(np.abs(grid.vectorNz))\n",
    "model.res_x[:, :, iz:] = 1e10\n",
    "\n",
    "# Ensure at least top layer is water\n",
    "model.res_x[:, :, iz] = 0.3"
   ]
  },
  {
   "cell_type": "markdown",
   "metadata": {},
   "source": [
    "## $x-f$ domain; $s=i\\omega=i2\\pi f$"
   ]
  },
  {
   "cell_type": "code",
   "execution_count": 7,
   "metadata": {
    "scrolled": true
   },
   "outputs": [
    {
     "name": "stdout",
     "output_type": "stream",
     "text": [
      ":: emg3d :: 9.3e-07; 16; 0:02:38; CONVERGED\n"
     ]
    }
   ],
   "source": [
    "sfield = emg3d.utils.get_source_field(grid, src, freq, 0)\n",
    "pfield, info_xf = emg3d.solve(grid, model, sfield, return_info=True, verb=-1)"
   ]
  },
  {
   "cell_type": "markdown",
   "metadata": {},
   "source": [
    "## $x-s$ domain (invoked by giving negative frequency); $s=2\\pi f$"
   ]
  },
  {
   "cell_type": "code",
   "execution_count": 8,
   "metadata": {},
   "outputs": [
    {
     "name": "stdout",
     "output_type": "stream",
     "text": [
      ":: emg3d :: 7.6e-07; 14; 0:01:52; CONVERGED\n"
     ]
    }
   ],
   "source": [
    "sfield = emg3d.utils.get_source_field(grid, src, -2*np.pi*freq, 0)\n",
    "pfield, info_xs = emg3d.solve(grid, model, sfield, return_info=True, verb=-1)"
   ]
  },
  {
   "cell_type": "code",
   "execution_count": 9,
   "metadata": {},
   "outputs": [],
   "source": [
    "#emg3d.utils.data_write('runtime', ['info_xf', 'info_xs'], [info_xf, info_xs])\n",
    "info_xf, info_xs = emg3d.utils.data_read('runtime', ['info_xf', 'info_xs'])"
   ]
  },
  {
   "cell_type": "code",
   "execution_count": 10,
   "metadata": {},
   "outputs": [
    {
     "name": "stdout",
     "output_type": "stream",
     "text": [
      "Mean f-domain ::  9.9\n",
      "Mean s-domain ::  8.0\n",
      "Speed-up      ::  0.71\n"
     ]
    }
   ],
   "source": [
    "print(f\"Mean f-domain :: {np.mean(np.diff(info_xf['runtime_at_cycle'])):4.1f}\")\n",
    "print(f\"Mean s-domain :: {np.mean(np.diff(info_xs['runtime_at_cycle'])):4.1f}\")\n",
    "print(f\"Speed-up      :: {info_xs['time']/info_xf['time']:5.2f}\")"
   ]
  },
  {
   "cell_type": "code",
   "execution_count": 11,
   "metadata": {},
   "outputs": [
    {
     "data": {
      "image/png": "[encoded data removed]",
      "text/plain": [
       "<Figure size 324x180 with 1 Axes>"
      ]
     },
     "metadata": {
      "needs_background": "light"
     },
     "output_type": "display_data"
    }
   ],
   "source": [
    "plt.figure(figsize=(4.5, 2.5))\n",
    "\n",
    "plt.plot(info_xf['runtime_at_cycle'], 'o-', label=r'Frequency domain; $s=\\mathrm{i}\\omega$')\n",
    "plt.plot(info_xs['runtime_at_cycle'], 'o-', label=r'Laplace domain; $s=\\omega$')\n",
    "plt.xlabel('MG cycle')\n",
    "plt.ylabel('Time (s)')\n",
    "plt.legend()\n",
    "\n",
    "#plt.savefig('../figures/xf-vs-xs.pdf', bbox_inches='tight')\n",
    "plt.show()"
   ]
  },
  {
   "cell_type": "code",
   "execution_count": 12,
   "metadata": {},
   "outputs": [
    {
     "data": {
      "text/html": [
       "<table style='border: 3px solid #ddd;'>\n",
       "  <tr>\n",
       "     <td style='text-align: center; font-weight: bold; font-size: 1.2em; border: 2px solid #fff;' colspan='6'>Mon Jan 06 15:07:40 2020 CET</td>\n",
       "  </tr>\n",
       "  <tr>\n",
       "    <td style='text-align: right; background-color: #ccc; border: 2px solid #fff;'>Linux</td>\n",
       "    <td style='text-align: left; border: 2px solid #fff;'>OS</td>\n",
       "    <td style='text-align: right; background-color: #ccc; border: 2px solid #fff;'>4</td>\n",
       "    <td style='text-align: left; border: 2px solid #fff;'>CPU(s)</td>\n",
       "    <td style='text-align: right; background-color: #ccc; border: 2px solid #fff;'>x86_64</td>\n",
       "    <td style='text-align: left; border: 2px solid #fff;'>Machine</td>\n",
       "  </tr>\n",
       "  <tr>\n",
       "    <td style='text-align: right; background-color: #ccc; border: 2px solid #fff;'>64bit</td>\n",
       "    <td style='text-align: left; border: 2px solid #fff;'>Architecture</td>\n",
       "    <td style='text-align: right; background-color: #ccc; border: 2px solid #fff;'>15.5 GB</td>\n",
       "    <td style='text-align: left; border: 2px solid #fff;'>RAM</td>\n",
       "    <td style='text-align: right; background-color: #ccc; border: 2px solid #fff;'>Jupyter</td>\n",
       "    <td style='text-align: left; border: 2px solid #fff;'>Environment</td>\n",
       "  </tr>\n",
       "  <tr>\n",
       "     <td style='text-align: center; border: 2px solid #fff;' colspan='6'>Python 3.7.4 (default, Aug 13 2019, 20:35:49) \n",
       "[GCC 7.3.0]</td>\n",
       "  </tr>\n",
       "  <tr>\n",
       "    <td style='text-align: right; background-color: #ccc; border: 2px solid #fff;'>0.4.10</td>\n",
       "    <td style='text-align: left; border: 2px solid #fff;'>discretize</td>\n",
       "    <td style='text-align: right; background-color: #ccc; border: 2px solid #fff;'>1.17.4</td>\n",
       "    <td style='text-align: left; border: 2px solid #fff;'>numpy</td>\n",
       "    <td style='text-align: right; background-color: #ccc; border: 2px solid #fff;'>1.3.2</td>\n",
       "    <td style='text-align: left; border: 2px solid #fff;'>scipy</td>\n",
       "  </tr>\n",
       "  <tr>\n",
       "    <td style='text-align: right; background-color: #ccc; border: 2px solid #fff;'>0.46.0</td>\n",
       "    <td style='text-align: left; border: 2px solid #fff;'>numba</td>\n",
       "    <td style='text-align: right; background-color: #ccc; border: 2px solid #fff;'>0.9.3.dev1+gc9e595e</td>\n",
       "    <td style='text-align: left; border: 2px solid #fff;'>emg3d</td>\n",
       "    <td style='text-align: right; background-color: #ccc; border: 2px solid #fff;'>7.10.2</td>\n",
       "    <td style='text-align: left; border: 2px solid #fff;'>IPython</td>\n",
       "  </tr>\n",
       "  <tr>\n",
       "    <td style='text-align: right; background-color: #ccc; border: 2px solid #fff;'>3.1.1</td>\n",
       "    <td style='text-align: left; border: 2px solid #fff;'>matplotlib</td>\n",
       "    <td style= border: 2px solid #fff;'></td>\n",
       "    <td style= border: 2px solid #fff;'></td>\n",
       "    <td style= border: 2px solid #fff;'></td>\n",
       "    <td style= border: 2px solid #fff;'></td>\n",
       "  </tr>\n",
       "  <tr>\n",
       "     <td style='text-align: center; background-color: #ddd;border: 2px solid #fff;' colspan='6'>Intel(R) Math Kernel Library Version 2019.0.4 Product Build 20190411 for Intel(R) 64 architecture applications</td>\n",
       "  </tr>\n",
       "</table>"
      ],
      "text/plain": [
       "\n",
       "--------------------------------------------------------------------------------\n",
       "  Date: Mon Jan 06 15:07:40 2020 CET\n",
       "\n",
       "             Linux : OS\n",
       "                 4 : CPU(s)\n",
       "            x86_64 : Machine\n",
       "             64bit : Architecture\n",
       "           15.5 GB : RAM\n",
       "           Jupyter : Environment\n",
       "\n",
       "  Python 3.7.4 (default, Aug 13 2019, 20:35:49)  [GCC 7.3.0]\n",
       "\n",
       "            0.4.10 : discretize\n",
       "            1.17.4 : numpy\n",
       "             1.3.2 : scipy\n",
       "            0.46.0 : numba\n",
       "0.9.3.dev1+gc9e595e : emg3d\n",
       "            7.10.2 : IPython\n",
       "             3.1.1 : matplotlib\n",
       "\n",
       "  Intel(R) Math Kernel Library Version 2019.0.4 Product Build 20190411 for\n",
       "  Intel(R) 64 architecture applications\n",
       "--------------------------------------------------------------------------------"
      ]
     },
     "execution_count": 12,
     "metadata": {},
     "output_type": "execute_result"
    }
   ],
   "source": [
    "emg3d.Report(discretize)"
   ]
  }
 ],
 "metadata": {
  "kernelspec": {
   "display_name": "Python 3",
   "language": "python",
   "name": "python3"
  },
  "language_info": {
   "codemirror_mode": {
    "name": "ipython",
    "version": 3
   },
   "file_extension": ".py",
   "mimetype": "text/x-python",
   "name": "python",
   "nbconvert_exporter": "python",
   "pygments_lexer": "ipython3",
   "version": "3.7.4"
  }
 },
 "nbformat": 4,
 "nbformat_minor": 2
}
